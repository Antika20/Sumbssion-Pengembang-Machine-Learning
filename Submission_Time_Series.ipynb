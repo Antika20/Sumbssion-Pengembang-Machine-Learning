{
  "nbformat": 4,
  "nbformat_minor": 0,
  "metadata": {
    "colab": {
      "name": "Submission Time Series.ipynb",
      "provenance": [],
      "collapsed_sections": [],
      "authorship_tag": "ABX9TyM1cKtQu4Q/oTSamZM5MIno",
      "include_colab_link": true
    },
    "kernelspec": {
      "name": "python3",
      "display_name": "Python 3"
    },
    "language_info": {
      "name": "python"
    }
  },
  "cells": [
    {
      "cell_type": "markdown",
      "metadata": {
        "id": "view-in-github",
        "colab_type": "text"
      },
      "source": [
        "<a href=\"https://colab.research.google.com/github/Antika20/Sumbssion-Pengembang-Machine-Learning/blob/main/Submission_Time_Series.ipynb\" target=\"_parent\"><img src=\"https://colab.research.google.com/assets/colab-badge.svg\" alt=\"Open In Colab\"/></a>"
      ]
    },
    {
      "cell_type": "markdown",
      "source": [
        "Link Dataset \n",
        "https://www.kaggle.com/datasets/meetnagadia/apple-stock-price-from-19802021\n",
        "\n",
        "https://www.kaggle.com/discussions/getting-started/316278"
      ],
      "metadata": {
        "id": "aWDkvaKr83bo"
      }
    },
    {
      "cell_type": "code",
      "execution_count": 1,
      "metadata": {
        "id": "l-H6MOm1OaUg"
      },
      "outputs": [],
      "source": [
        "# install kaggle package\n",
        "!pip install -q kaggle"
      ]
    },
    {
      "cell_type": "code",
      "source": [
        "# upload kaggle.json\n",
        "from google.colab import files\n",
        "files.upload()"
      ],
      "metadata": {
        "colab": {
          "resources": {
            "http://localhost:8080/nbextensions/google.colab/files.js": {
              "data": "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",
              "ok": true,
              "headers": [
                [
                  "content-type",
                  "application/javascript"
                ]
              ],
              "status": 200,
              "status_text": ""
            }
          },
          "base_uri": "https://localhost:8080/",
          "height": 90
        },
        "id": "Fz2L_B9TPD73",
        "outputId": "ea642243-ab78-4de4-88d5-5bb42cd2516a"
      },
      "execution_count": 2,
      "outputs": [
        {
          "output_type": "display_data",
          "data": {
            "text/plain": [
              "<IPython.core.display.HTML object>"
            ],
            "text/html": [
              "\n",
              "     <input type=\"file\" id=\"files-cb7965b8-4614-4931-9e52-899145f197bb\" name=\"files[]\" multiple disabled\n",
              "        style=\"border:none\" />\n",
              "     <output id=\"result-cb7965b8-4614-4931-9e52-899145f197bb\">\n",
              "      Upload widget is only available when the cell has been executed in the\n",
              "      current browser session. Please rerun this cell to enable.\n",
              "      </output>\n",
              "      <script src=\"/nbextensions/google.colab/files.js\"></script> "
            ]
          },
          "metadata": {}
        },
        {
          "output_type": "stream",
          "name": "stdout",
          "text": [
            "Saving kaggle.json to kaggle.json\n"
          ]
        },
        {
          "output_type": "execute_result",
          "data": {
            "text/plain": [
              "{'kaggle.json': b'{\"username\":\"antikaorinda\",\"key\":\"4eff175b8f61192de087d150bebd4735\"}'}"
            ]
          },
          "metadata": {},
          "execution_count": 2
        }
      ]
    },
    {
      "cell_type": "code",
      "source": [
        "# make directory and change permission\n",
        "!mkdir -p ~/.kaggle\n",
        "!cp kaggle.json ~/.kaggle/\n",
        "!chmod 600 ~/.kaggle/kaggle.json\n",
        "!ls ~/.kaggle"
      ],
      "metadata": {
        "colab": {
          "base_uri": "https://localhost:8080/"
        },
        "id": "MUpKdYZzPHdr",
        "outputId": "e36256b4-cfcc-4887-a4df-6b80b1bb04d0"
      },
      "execution_count": 3,
      "outputs": [
        {
          "output_type": "stream",
          "name": "stdout",
          "text": [
            "kaggle.json\n"
          ]
        }
      ]
    },
    {
      "cell_type": "code",
      "source": [
        "# download dataset, choose 'copy api command' from kaggle dataset\n",
        "!kaggle datasets download -d meetnagadia/apple-stock-price-from-19802021"
      ],
      "metadata": {
        "colab": {
          "base_uri": "https://localhost:8080/"
        },
        "id": "BifCNwmMPJHI",
        "outputId": "331d2d16-69d8-442e-90a6-5022adc182a6"
      },
      "execution_count": 28,
      "outputs": [
        {
          "output_type": "stream",
          "name": "stdout",
          "text": [
            "apple-stock-price-from-19802021.zip: Skipping, found more recently modified local copy (use --force to force download)\n"
          ]
        }
      ]
    },
    {
      "cell_type": "code",
      "source": [
        "from zipfile import ZipFile\n",
        "file_name = \"/content/apple-stock-price-from-19802021.zip\"\n",
        "\n",
        "with ZipFile(file_name,'r') as zip:\n",
        "  zip.extractall()\n",
        "  print(\"done\")"
      ],
      "metadata": {
        "colab": {
          "base_uri": "https://localhost:8080/"
        },
        "id": "G0Jp9j_TPVks",
        "outputId": "1f5dd0b9-eb2d-41ff-8822-a300bf9fec52"
      },
      "execution_count": 29,
      "outputs": [
        {
          "output_type": "stream",
          "name": "stdout",
          "text": [
            "done\n"
          ]
        }
      ]
    },
    {
      "cell_type": "code",
      "source": [
        "import numpy as np\n",
        "import pandas as pd\n",
        "from keras.layers import Dense, LSTM\n",
        "import matplotlib.pyplot as plt\n",
        "import tensorflow as tf"
      ],
      "metadata": {
        "id": "AHlL3OeBPb9o"
      },
      "execution_count": 30,
      "outputs": []
    },
    {
      "cell_type": "code",
      "source": [
        "data_train = pd.read_csv('/content/AAPL.csv')\n",
        "data_train.head()"
      ],
      "metadata": {
        "colab": {
          "base_uri": "https://localhost:8080/",
          "height": 206
        },
        "id": "nc1z1tXAPd4H",
        "outputId": "90651397-9cb4-472e-d4d7-e5a14cd10fdf"
      },
      "execution_count": 39,
      "outputs": [
        {
          "output_type": "execute_result",
          "data": {
            "text/plain": [
              "         Date      Open      High       Low     Close  Adj Close     Volume\n",
              "0  1980-12-12  0.128348  0.128906  0.128348  0.128348   0.100178  469033600\n",
              "1  1980-12-15  0.122210  0.122210  0.121652  0.121652   0.094952  175884800\n",
              "2  1980-12-16  0.113281  0.113281  0.112723  0.112723   0.087983  105728000\n",
              "3  1980-12-17  0.115513  0.116071  0.115513  0.115513   0.090160   86441600\n",
              "4  1980-12-18  0.118862  0.119420  0.118862  0.118862   0.092774   73449600"
            ],
            "text/html": [
              "\n",
              "  <div id=\"df-3bccd743-2c4c-493f-810d-f01314c9b1b1\">\n",
              "    <div class=\"colab-df-container\">\n",
              "      <div>\n",
              "<style scoped>\n",
              "    .dataframe tbody tr th:only-of-type {\n",
              "        vertical-align: middle;\n",
              "    }\n",
              "\n",
              "    .dataframe tbody tr th {\n",
              "        vertical-align: top;\n",
              "    }\n",
              "\n",
              "    .dataframe thead th {\n",
              "        text-align: right;\n",
              "    }\n",
              "</style>\n",
              "<table border=\"1\" class=\"dataframe\">\n",
              "  <thead>\n",
              "    <tr style=\"text-align: right;\">\n",
              "      <th></th>\n",
              "      <th>Date</th>\n",
              "      <th>Open</th>\n",
              "      <th>High</th>\n",
              "      <th>Low</th>\n",
              "      <th>Close</th>\n",
              "      <th>Adj Close</th>\n",
              "      <th>Volume</th>\n",
              "    </tr>\n",
              "  </thead>\n",
              "  <tbody>\n",
              "    <tr>\n",
              "      <th>0</th>\n",
              "      <td>1980-12-12</td>\n",
              "      <td>0.128348</td>\n",
              "      <td>0.128906</td>\n",
              "      <td>0.128348</td>\n",
              "      <td>0.128348</td>\n",
              "      <td>0.100178</td>\n",
              "      <td>469033600</td>\n",
              "    </tr>\n",
              "    <tr>\n",
              "      <th>1</th>\n",
              "      <td>1980-12-15</td>\n",
              "      <td>0.122210</td>\n",
              "      <td>0.122210</td>\n",
              "      <td>0.121652</td>\n",
              "      <td>0.121652</td>\n",
              "      <td>0.094952</td>\n",
              "      <td>175884800</td>\n",
              "    </tr>\n",
              "    <tr>\n",
              "      <th>2</th>\n",
              "      <td>1980-12-16</td>\n",
              "      <td>0.113281</td>\n",
              "      <td>0.113281</td>\n",
              "      <td>0.112723</td>\n",
              "      <td>0.112723</td>\n",
              "      <td>0.087983</td>\n",
              "      <td>105728000</td>\n",
              "    </tr>\n",
              "    <tr>\n",
              "      <th>3</th>\n",
              "      <td>1980-12-17</td>\n",
              "      <td>0.115513</td>\n",
              "      <td>0.116071</td>\n",
              "      <td>0.115513</td>\n",
              "      <td>0.115513</td>\n",
              "      <td>0.090160</td>\n",
              "      <td>86441600</td>\n",
              "    </tr>\n",
              "    <tr>\n",
              "      <th>4</th>\n",
              "      <td>1980-12-18</td>\n",
              "      <td>0.118862</td>\n",
              "      <td>0.119420</td>\n",
              "      <td>0.118862</td>\n",
              "      <td>0.118862</td>\n",
              "      <td>0.092774</td>\n",
              "      <td>73449600</td>\n",
              "    </tr>\n",
              "  </tbody>\n",
              "</table>\n",
              "</div>\n",
              "      <button class=\"colab-df-convert\" onclick=\"convertToInteractive('df-3bccd743-2c4c-493f-810d-f01314c9b1b1')\"\n",
              "              title=\"Convert this dataframe to an interactive table.\"\n",
              "              style=\"display:none;\">\n",
              "        \n",
              "  <svg xmlns=\"http://www.w3.org/2000/svg\" height=\"24px\"viewBox=\"0 0 24 24\"\n",
              "       width=\"24px\">\n",
              "    <path d=\"M0 0h24v24H0V0z\" fill=\"none\"/>\n",
              "    <path d=\"M18.56 5.44l.94 2.06.94-2.06 2.06-.94-2.06-.94-.94-2.06-.94 2.06-2.06.94zm-11 1L8.5 8.5l.94-2.06 2.06-.94-2.06-.94L8.5 2.5l-.94 2.06-2.06.94zm10 10l.94 2.06.94-2.06 2.06-.94-2.06-.94-.94-2.06-.94 2.06-2.06.94z\"/><path d=\"M17.41 7.96l-1.37-1.37c-.4-.4-.92-.59-1.43-.59-.52 0-1.04.2-1.43.59L10.3 9.45l-7.72 7.72c-.78.78-.78 2.05 0 2.83L4 21.41c.39.39.9.59 1.41.59.51 0 1.02-.2 1.41-.59l7.78-7.78 2.81-2.81c.8-.78.8-2.07 0-2.86zM5.41 20L4 18.59l7.72-7.72 1.47 1.35L5.41 20z\"/>\n",
              "  </svg>\n",
              "      </button>\n",
              "      \n",
              "  <style>\n",
              "    .colab-df-container {\n",
              "      display:flex;\n",
              "      flex-wrap:wrap;\n",
              "      gap: 12px;\n",
              "    }\n",
              "\n",
              "    .colab-df-convert {\n",
              "      background-color: #E8F0FE;\n",
              "      border: none;\n",
              "      border-radius: 50%;\n",
              "      cursor: pointer;\n",
              "      display: none;\n",
              "      fill: #1967D2;\n",
              "      height: 32px;\n",
              "      padding: 0 0 0 0;\n",
              "      width: 32px;\n",
              "    }\n",
              "\n",
              "    .colab-df-convert:hover {\n",
              "      background-color: #E2EBFA;\n",
              "      box-shadow: 0px 1px 2px rgba(60, 64, 67, 0.3), 0px 1px 3px 1px rgba(60, 64, 67, 0.15);\n",
              "      fill: #174EA6;\n",
              "    }\n",
              "\n",
              "    [theme=dark] .colab-df-convert {\n",
              "      background-color: #3B4455;\n",
              "      fill: #D2E3FC;\n",
              "    }\n",
              "\n",
              "    [theme=dark] .colab-df-convert:hover {\n",
              "      background-color: #434B5C;\n",
              "      box-shadow: 0px 1px 3px 1px rgba(0, 0, 0, 0.15);\n",
              "      filter: drop-shadow(0px 1px 2px rgba(0, 0, 0, 0.3));\n",
              "      fill: #FFFFFF;\n",
              "    }\n",
              "  </style>\n",
              "\n",
              "      <script>\n",
              "        const buttonEl =\n",
              "          document.querySelector('#df-3bccd743-2c4c-493f-810d-f01314c9b1b1 button.colab-df-convert');\n",
              "        buttonEl.style.display =\n",
              "          google.colab.kernel.accessAllowed ? 'block' : 'none';\n",
              "\n",
              "        async function convertToInteractive(key) {\n",
              "          const element = document.querySelector('#df-3bccd743-2c4c-493f-810d-f01314c9b1b1');\n",
              "          const dataTable =\n",
              "            await google.colab.kernel.invokeFunction('convertToInteractive',\n",
              "                                                     [key], {});\n",
              "          if (!dataTable) return;\n",
              "\n",
              "          const docLinkHtml = 'Like what you see? Visit the ' +\n",
              "            '<a target=\"_blank\" href=https://colab.research.google.com/notebooks/data_table.ipynb>data table notebook</a>'\n",
              "            + ' to learn more about interactive tables.';\n",
              "          element.innerHTML = '';\n",
              "          dataTable['output_type'] = 'display_data';\n",
              "          await google.colab.output.renderOutput(dataTable, element);\n",
              "          const docLink = document.createElement('div');\n",
              "          docLink.innerHTML = docLinkHtml;\n",
              "          element.appendChild(docLink);\n",
              "        }\n",
              "      </script>\n",
              "    </div>\n",
              "  </div>\n",
              "  "
            ]
          },
          "metadata": {},
          "execution_count": 39
        }
      ]
    },
    {
      "cell_type": "code",
      "source": [
        "data_train.isnull().sum()"
      ],
      "metadata": {
        "colab": {
          "base_uri": "https://localhost:8080/"
        },
        "id": "nu9VU8lfQ77M",
        "outputId": "5b86880f-7166-42bd-c269-1f3c1dfa94ca"
      },
      "execution_count": 32,
      "outputs": [
        {
          "output_type": "execute_result",
          "data": {
            "text/plain": [
              "Date,Open,High,Low,Close,Adj Close,Volume    0\n",
              "dtype: int64"
            ]
          },
          "metadata": {},
          "execution_count": 32
        }
      ]
    },
    {
      "cell_type": "code",
      "source": [
        "data_train.isnull()"
      ],
      "metadata": {
        "colab": {
          "base_uri": "https://localhost:8080/",
          "height": 424
        },
        "id": "wToLkcALwY6e",
        "outputId": "b4448e53-0a9d-4ab9-9d7b-d6d221f15644"
      },
      "execution_count": 33,
      "outputs": [
        {
          "output_type": "execute_result",
          "data": {
            "text/plain": [
              "       Date,Open,High,Low,Close,Adj Close,Volume\n",
              "0                                          False\n",
              "1                                          False\n",
              "2                                          False\n",
              "3                                          False\n",
              "4                                          False\n",
              "...                                          ...\n",
              "10463                                      False\n",
              "10464                                      False\n",
              "10465                                      False\n",
              "10466                                      False\n",
              "10467                                      False\n",
              "\n",
              "[10468 rows x 1 columns]"
            ],
            "text/html": [
              "\n",
              "  <div id=\"df-a743702e-6043-42da-85e6-47f64715f066\">\n",
              "    <div class=\"colab-df-container\">\n",
              "      <div>\n",
              "<style scoped>\n",
              "    .dataframe tbody tr th:only-of-type {\n",
              "        vertical-align: middle;\n",
              "    }\n",
              "\n",
              "    .dataframe tbody tr th {\n",
              "        vertical-align: top;\n",
              "    }\n",
              "\n",
              "    .dataframe thead th {\n",
              "        text-align: right;\n",
              "    }\n",
              "</style>\n",
              "<table border=\"1\" class=\"dataframe\">\n",
              "  <thead>\n",
              "    <tr style=\"text-align: right;\">\n",
              "      <th></th>\n",
              "      <th>Date,Open,High,Low,Close,Adj Close,Volume</th>\n",
              "    </tr>\n",
              "  </thead>\n",
              "  <tbody>\n",
              "    <tr>\n",
              "      <th>0</th>\n",
              "      <td>False</td>\n",
              "    </tr>\n",
              "    <tr>\n",
              "      <th>1</th>\n",
              "      <td>False</td>\n",
              "    </tr>\n",
              "    <tr>\n",
              "      <th>2</th>\n",
              "      <td>False</td>\n",
              "    </tr>\n",
              "    <tr>\n",
              "      <th>3</th>\n",
              "      <td>False</td>\n",
              "    </tr>\n",
              "    <tr>\n",
              "      <th>4</th>\n",
              "      <td>False</td>\n",
              "    </tr>\n",
              "    <tr>\n",
              "      <th>...</th>\n",
              "      <td>...</td>\n",
              "    </tr>\n",
              "    <tr>\n",
              "      <th>10463</th>\n",
              "      <td>False</td>\n",
              "    </tr>\n",
              "    <tr>\n",
              "      <th>10464</th>\n",
              "      <td>False</td>\n",
              "    </tr>\n",
              "    <tr>\n",
              "      <th>10465</th>\n",
              "      <td>False</td>\n",
              "    </tr>\n",
              "    <tr>\n",
              "      <th>10466</th>\n",
              "      <td>False</td>\n",
              "    </tr>\n",
              "    <tr>\n",
              "      <th>10467</th>\n",
              "      <td>False</td>\n",
              "    </tr>\n",
              "  </tbody>\n",
              "</table>\n",
              "<p>10468 rows × 1 columns</p>\n",
              "</div>\n",
              "      <button class=\"colab-df-convert\" onclick=\"convertToInteractive('df-a743702e-6043-42da-85e6-47f64715f066')\"\n",
              "              title=\"Convert this dataframe to an interactive table.\"\n",
              "              style=\"display:none;\">\n",
              "        \n",
              "  <svg xmlns=\"http://www.w3.org/2000/svg\" height=\"24px\"viewBox=\"0 0 24 24\"\n",
              "       width=\"24px\">\n",
              "    <path d=\"M0 0h24v24H0V0z\" fill=\"none\"/>\n",
              "    <path d=\"M18.56 5.44l.94 2.06.94-2.06 2.06-.94-2.06-.94-.94-2.06-.94 2.06-2.06.94zm-11 1L8.5 8.5l.94-2.06 2.06-.94-2.06-.94L8.5 2.5l-.94 2.06-2.06.94zm10 10l.94 2.06.94-2.06 2.06-.94-2.06-.94-.94-2.06-.94 2.06-2.06.94z\"/><path d=\"M17.41 7.96l-1.37-1.37c-.4-.4-.92-.59-1.43-.59-.52 0-1.04.2-1.43.59L10.3 9.45l-7.72 7.72c-.78.78-.78 2.05 0 2.83L4 21.41c.39.39.9.59 1.41.59.51 0 1.02-.2 1.41-.59l7.78-7.78 2.81-2.81c.8-.78.8-2.07 0-2.86zM5.41 20L4 18.59l7.72-7.72 1.47 1.35L5.41 20z\"/>\n",
              "  </svg>\n",
              "      </button>\n",
              "      \n",
              "  <style>\n",
              "    .colab-df-container {\n",
              "      display:flex;\n",
              "      flex-wrap:wrap;\n",
              "      gap: 12px;\n",
              "    }\n",
              "\n",
              "    .colab-df-convert {\n",
              "      background-color: #E8F0FE;\n",
              "      border: none;\n",
              "      border-radius: 50%;\n",
              "      cursor: pointer;\n",
              "      display: none;\n",
              "      fill: #1967D2;\n",
              "      height: 32px;\n",
              "      padding: 0 0 0 0;\n",
              "      width: 32px;\n",
              "    }\n",
              "\n",
              "    .colab-df-convert:hover {\n",
              "      background-color: #E2EBFA;\n",
              "      box-shadow: 0px 1px 2px rgba(60, 64, 67, 0.3), 0px 1px 3px 1px rgba(60, 64, 67, 0.15);\n",
              "      fill: #174EA6;\n",
              "    }\n",
              "\n",
              "    [theme=dark] .colab-df-convert {\n",
              "      background-color: #3B4455;\n",
              "      fill: #D2E3FC;\n",
              "    }\n",
              "\n",
              "    [theme=dark] .colab-df-convert:hover {\n",
              "      background-color: #434B5C;\n",
              "      box-shadow: 0px 1px 3px 1px rgba(0, 0, 0, 0.15);\n",
              "      filter: drop-shadow(0px 1px 2px rgba(0, 0, 0, 0.3));\n",
              "      fill: #FFFFFF;\n",
              "    }\n",
              "  </style>\n",
              "\n",
              "      <script>\n",
              "        const buttonEl =\n",
              "          document.querySelector('#df-a743702e-6043-42da-85e6-47f64715f066 button.colab-df-convert');\n",
              "        buttonEl.style.display =\n",
              "          google.colab.kernel.accessAllowed ? 'block' : 'none';\n",
              "\n",
              "        async function convertToInteractive(key) {\n",
              "          const element = document.querySelector('#df-a743702e-6043-42da-85e6-47f64715f066');\n",
              "          const dataTable =\n",
              "            await google.colab.kernel.invokeFunction('convertToInteractive',\n",
              "                                                     [key], {});\n",
              "          if (!dataTable) return;\n",
              "\n",
              "          const docLinkHtml = 'Like what you see? Visit the ' +\n",
              "            '<a target=\"_blank\" href=https://colab.research.google.com/notebooks/data_table.ipynb>data table notebook</a>'\n",
              "            + ' to learn more about interactive tables.';\n",
              "          element.innerHTML = '';\n",
              "          dataTable['output_type'] = 'display_data';\n",
              "          await google.colab.output.renderOutput(dataTable, element);\n",
              "          const docLink = document.createElement('div');\n",
              "          docLink.innerHTML = docLinkHtml;\n",
              "          element.appendChild(docLink);\n",
              "        }\n",
              "      </script>\n",
              "    </div>\n",
              "  </div>\n",
              "  "
            ]
          },
          "metadata": {},
          "execution_count": 33
        }
      ]
    },
    {
      "cell_type": "code",
      "source": [
        "dates = data_train['Date'].values\n",
        "category  = data_train['Open'].values\n",
        " \n",
        " \n",
        "plt.figure(figsize=(15,5))\n",
        "plt.plot(dates, category)\n",
        "plt.title('Temperature average',\n",
        "          fontsize=20);"
      ],
      "metadata": {
        "colab": {
          "base_uri": "https://localhost:8080/",
          "height": 341
        },
        "id": "zwMNh0P7Rpgm",
        "outputId": "71118ab7-f8b2-4da5-bda1-ad00021b21e2"
      },
      "execution_count": 40,
      "outputs": [
        {
          "output_type": "display_data",
          "data": {
            "text/plain": [
              "<Figure size 1080x360 with 1 Axes>"
            ],
            "image/png": "[encoded data removed]"
          },
          "metadata": {
            "needs_background": "light"
          }
        }
      ]
    },
    {
      "cell_type": "code",
      "source": [
        "dates = data_train['Date'].values\n",
        "category  = data_train['Open'].values"
      ],
      "metadata": {
        "id": "O1DMi8ZVu2S3"
      },
      "execution_count": 41,
      "outputs": []
    },
    {
      "cell_type": "code",
      "source": [
        "import matplotlib.pyplot as plt\n",
        "\n",
        "plt.figure(figsize=(20,8))\n",
        "plt.plot(dates, category)\n",
        "plt.title('Stock Apple')\n",
        "plt.xlabel('Dates')\n",
        "plt.ylabel('category')\n",
        "plt.show()"
      ],
      "metadata": {
        "colab": {
          "base_uri": "https://localhost:8080/",
          "height": 513
        },
        "id": "U9rCnF8yt53I",
        "outputId": "7f383fe4-8efd-41d6-924d-6b76770aa354"
      },
      "execution_count": 42,
      "outputs": [
        {
          "output_type": "display_data",
          "data": {
            "text/plain": [
              "<Figure size 1440x576 with 1 Axes>"
            ],
            "image/png": "[encoded data removed]"
          },
          "metadata": {
            "needs_background": "light"
          }
        }
      ]
    },
    {
      "cell_type": "code",
      "source": [
        "def windowed_dataset(series, window_size, batch_size, shuffle_buffer):\n",
        "    series = tf.expand_dims(series, axis=-1)\n",
        "    ds = tf.data.Dataset.from_tensor_slices(series)\n",
        "    ds = ds.window(window_size + 1, shift=1, drop_remainder=True)\n",
        "    ds = ds.flat_map(lambda w: w.batch(window_size + 1))\n",
        "    ds = ds.shuffle(shuffle_buffer)\n",
        "    ds = ds.map(lambda w: (w[:-1], w[-1:]))\n",
        "    return ds.batch(batch_size).prefetch(1)"
      ],
      "metadata": {
        "id": "YUxhfLgPTIy0"
      },
      "execution_count": 43,
      "outputs": []
    },
    {
      "cell_type": "code",
      "source": [
        "from sklearn.model_selection import train_test_split\n",
        "\n",
        "x_train, x_test, y_train, y_test = train_test_split(category, dates, test_size = 0.2, random_state = 0 , shuffle=False)\n",
        "print(len(x_train), len(x_test))"
      ],
      "metadata": {
        "colab": {
          "base_uri": "https://localhost:8080/"
        },
        "id": "U7P3mhpgtoev",
        "outputId": "fc3a675a-1030-4c0a-d9db-0955237da774"
      },
      "execution_count": 44,
      "outputs": [
        {
          "output_type": "stream",
          "name": "stdout",
          "text": [
            "8374 2094\n"
          ]
        }
      ]
    },
    {
      "cell_type": "code",
      "source": [
        "train_set = windowed_dataset(x_train, window_size=60, batch_size=100, shuffle_buffer=1000)\n",
        "test_set = windowed_dataset(x_test, window_size=60, batch_size=100, shuffle_buffer=5000)\n",
        "\n",
        "model = tf.keras.models.Sequential([\n",
        "  tf.keras.layers.LSTM(64, return_sequences=True),\n",
        "  tf.keras.layers.LSTM(64, return_sequences=True),\n",
        "  tf.keras.layers.Dense(30, activation=\"relu\"),\n",
        "  tf.keras.layers.Dense(10, activation=\"relu\"),\n",
        "  tf.keras.layers.Dense(1),\n",
        "  tf.keras.layers.Lambda(lambda x: x * 400)\n",
        "])"
      ],
      "metadata": {
        "id": "7nguO8GZTLca"
      },
      "execution_count": 50,
      "outputs": []
    },
    {
      "cell_type": "code",
      "source": [
        "optimizer = tf.keras.optimizers.SGD(lr=1.0000e-04, momentum=0.9)\n",
        "model.compile(loss=tf.keras.losses.Huber(),\n",
        "              optimizer=optimizer,\n",
        "              metrics=[\"mae\"])\n"
      ],
      "metadata": {
        "colab": {
          "base_uri": "https://localhost:8080/"
        },
        "id": "EIYHUCNiTOqb",
        "outputId": "da190742-0abe-4259-f7d9-a9a1c1123326"
      },
      "execution_count": 51,
      "outputs": [
        {
          "output_type": "stream",
          "name": "stderr",
          "text": [
            "/usr/local/lib/python3.7/dist-packages/keras/optimizer_v2/gradient_descent.py:102: UserWarning: The `lr` argument is deprecated, use `learning_rate` instead.\n",
            "  super(SGD, self).__init__(name, **kwargs)\n"
          ]
        }
      ]
    },
    {
      "cell_type": "code",
      "source": [
        "history = model.fit(train_set,epochs=100,validation_data=test_set)"
      ],
      "metadata": {
        "colab": {
          "base_uri": "https://localhost:8080/"
        },
        "id": "qQOTtyLu5Tqy",
        "outputId": "d7aec91d-6ae7-4520-d14d-ec0d7f14e10f"
      },
      "execution_count": 52,
      "outputs": [
        {
          "output_type": "stream",
          "name": "stdout",
          "text": [
            "Epoch 1/100\n",
            "84/84 [==============================] - 11s 92ms/step - loss: 19.6192 - mae: 20.1155 - val_loss: 71.1390 - val_mae: 71.6390\n",
            "Epoch 2/100\n",
            "84/84 [==============================] - 7s 78ms/step - loss: 16.0703 - mae: 16.5625 - val_loss: 60.6360 - val_mae: 61.1360\n",
            "Epoch 3/100\n",
            "84/84 [==============================] - 7s 77ms/step - loss: 4.4081 - mae: 4.9008 - val_loss: 52.8372 - val_mae: 53.3372\n",
            "Epoch 4/100\n",
            "84/84 [==============================] - 7s 79ms/step - loss: 7.6754 - mae: 8.1726 - val_loss: 53.0880 - val_mae: 53.5880\n",
            "Epoch 5/100\n",
            "84/84 [==============================] - 7s 84ms/step - loss: 13.2390 - mae: 13.7354 - val_loss: 57.2633 - val_mae: 57.7633\n",
            "Epoch 6/100\n",
            "84/84 [==============================] - 8s 96ms/step - loss: 11.4416 - mae: 11.9267 - val_loss: 55.5805 - val_mae: 56.0805\n",
            "Epoch 7/100\n",
            "84/84 [==============================] - 7s 78ms/step - loss: 16.4988 - mae: 16.9952 - val_loss: 43.0061 - val_mae: 43.5052\n",
            "Epoch 8/100\n",
            "84/84 [==============================] - 7s 78ms/step - loss: 14.1572 - mae: 14.6548 - val_loss: 49.6017 - val_mae: 50.1017\n",
            "Epoch 9/100\n",
            "84/84 [==============================] - 7s 85ms/step - loss: 7.6195 - mae: 8.1171 - val_loss: 55.3549 - val_mae: 55.8549\n",
            "Epoch 10/100\n",
            "84/84 [==============================] - 7s 79ms/step - loss: 18.5411 - mae: 19.0342 - val_loss: 39.0698 - val_mae: 39.5613\n",
            "Epoch 11/100\n",
            "84/84 [==============================] - 7s 85ms/step - loss: 23.6895 - mae: 24.1886 - val_loss: 75.3843 - val_mae: 75.8843\n",
            "Epoch 12/100\n",
            "84/84 [==============================] - 7s 79ms/step - loss: 7.6543 - mae: 8.1513 - val_loss: 50.2681 - val_mae: 50.7681\n",
            "Epoch 13/100\n",
            "84/84 [==============================] - 7s 79ms/step - loss: 13.7796 - mae: 14.2716 - val_loss: 43.1238 - val_mae: 43.6230\n",
            "Epoch 14/100\n",
            "84/84 [==============================] - 7s 78ms/step - loss: 23.6493 - mae: 24.1489 - val_loss: 47.4734 - val_mae: 47.9734\n",
            "Epoch 15/100\n",
            "84/84 [==============================] - 7s 78ms/step - loss: 15.3639 - mae: 15.8584 - val_loss: 55.3478 - val_mae: 55.8478\n",
            "Epoch 16/100\n",
            "84/84 [==============================] - 7s 78ms/step - loss: 13.4908 - mae: 13.9861 - val_loss: 58.0521 - val_mae: 58.5521\n",
            "Epoch 17/100\n",
            "84/84 [==============================] - 7s 85ms/step - loss: 7.6752 - mae: 8.1726 - val_loss: 50.9407 - val_mae: 51.4407\n",
            "Epoch 18/100\n",
            "84/84 [==============================] - 7s 78ms/step - loss: 28.1039 - mae: 28.6018 - val_loss: 33.3073 - val_mae: 33.8042\n",
            "Epoch 19/100\n",
            "84/84 [==============================] - 7s 78ms/step - loss: 23.6290 - mae: 24.1288 - val_loss: 43.5913 - val_mae: 44.0910\n",
            "Epoch 20/100\n",
            "84/84 [==============================] - 7s 79ms/step - loss: 14.0622 - mae: 14.5596 - val_loss: 51.3247 - val_mae: 51.8247\n",
            "Epoch 21/100\n",
            "84/84 [==============================] - 8s 91ms/step - loss: 14.1731 - mae: 14.6720 - val_loss: 59.9309 - val_mae: 60.4309\n",
            "Epoch 22/100\n",
            "84/84 [==============================] - 7s 78ms/step - loss: 13.9857 - mae: 14.4829 - val_loss: 58.5852 - val_mae: 59.0852\n",
            "Epoch 23/100\n",
            "84/84 [==============================] - 7s 79ms/step - loss: 12.9994 - mae: 13.4795 - val_loss: 53.2048 - val_mae: 53.7048\n",
            "Epoch 24/100\n",
            "84/84 [==============================] - 7s 86ms/step - loss: 14.0246 - mae: 14.5157 - val_loss: 41.4786 - val_mae: 41.9663\n",
            "Epoch 25/100\n",
            "84/84 [==============================] - 7s 79ms/step - loss: 13.1740 - mae: 13.6697 - val_loss: 64.4199 - val_mae: 64.9199\n",
            "Epoch 26/100\n",
            "84/84 [==============================] - 7s 79ms/step - loss: 15.3640 - mae: 15.8579 - val_loss: 56.9142 - val_mae: 57.4142\n",
            "Epoch 27/100\n",
            "84/84 [==============================] - 7s 80ms/step - loss: 17.2395 - mae: 17.7356 - val_loss: 51.0860 - val_mae: 51.5860\n",
            "Epoch 28/100\n",
            "84/84 [==============================] - 7s 79ms/step - loss: 10.8862 - mae: 11.3708 - val_loss: 58.9902 - val_mae: 59.4902\n",
            "Epoch 29/100\n",
            "84/84 [==============================] - 7s 78ms/step - loss: 13.7516 - mae: 14.2455 - val_loss: 53.6733 - val_mae: 54.1733\n",
            "Epoch 30/100\n",
            "84/84 [==============================] - 7s 78ms/step - loss: 14.1269 - mae: 14.6211 - val_loss: 59.3460 - val_mae: 59.8460\n",
            "Epoch 31/100\n",
            "84/84 [==============================] - 7s 80ms/step - loss: 20.1138 - mae: 20.6082 - val_loss: 39.4561 - val_mae: 39.9500\n",
            "Epoch 32/100\n",
            "84/84 [==============================] - 7s 80ms/step - loss: 10.1639 - mae: 10.6561 - val_loss: 55.1570 - val_mae: 55.6570\n",
            "Epoch 33/100\n",
            "84/84 [==============================] - 7s 80ms/step - loss: 9.9571 - mae: 10.4438 - val_loss: 59.8764 - val_mae: 60.3764\n",
            "Epoch 34/100\n",
            "84/84 [==============================] - 7s 79ms/step - loss: 14.1897 - mae: 14.6872 - val_loss: 56.7869 - val_mae: 57.2869\n",
            "Epoch 35/100\n",
            "84/84 [==============================] - 7s 79ms/step - loss: 14.0664 - mae: 14.5604 - val_loss: 47.8088 - val_mae: 48.3088\n",
            "Epoch 36/100\n",
            "84/84 [==============================] - 7s 79ms/step - loss: 12.5537 - mae: 13.0482 - val_loss: 47.9452 - val_mae: 48.4452\n",
            "Epoch 37/100\n",
            "84/84 [==============================] - 7s 80ms/step - loss: 14.3080 - mae: 14.8034 - val_loss: 46.1773 - val_mae: 46.6773\n",
            "Epoch 38/100\n",
            "84/84 [==============================] - 7s 80ms/step - loss: 13.5484 - mae: 14.0453 - val_loss: 56.9684 - val_mae: 57.4684\n",
            "Epoch 39/100\n",
            "84/84 [==============================] - 7s 86ms/step - loss: 20.1558 - mae: 20.6527 - val_loss: 67.8029 - val_mae: 68.3029\n",
            "Epoch 40/100\n",
            "84/84 [==============================] - 8s 90ms/step - loss: 10.3949 - mae: 10.8905 - val_loss: 44.0541 - val_mae: 44.5541\n",
            "Epoch 41/100\n",
            "84/84 [==============================] - 7s 80ms/step - loss: 20.2314 - mae: 20.7294 - val_loss: 46.7720 - val_mae: 47.2720\n",
            "Epoch 42/100\n",
            "84/84 [==============================] - 7s 80ms/step - loss: 18.9634 - mae: 19.4550 - val_loss: 64.1518 - val_mae: 64.6518\n",
            "Epoch 43/100\n",
            "84/84 [==============================] - 7s 79ms/step - loss: 15.9526 - mae: 16.4403 - val_loss: 50.9097 - val_mae: 51.4097\n",
            "Epoch 44/100\n",
            "84/84 [==============================] - 7s 80ms/step - loss: 15.4814 - mae: 15.9728 - val_loss: 60.5685 - val_mae: 61.0685\n",
            "Epoch 45/100\n",
            "84/84 [==============================] - 7s 81ms/step - loss: 7.6755 - mae: 8.1718 - val_loss: 48.6511 - val_mae: 49.1511\n",
            "Epoch 46/100\n",
            "84/84 [==============================] - 7s 79ms/step - loss: 10.7315 - mae: 11.2207 - val_loss: 54.2394 - val_mae: 54.7394\n",
            "Epoch 47/100\n",
            "84/84 [==============================] - 7s 80ms/step - loss: 9.7358 - mae: 10.2202 - val_loss: 56.5814 - val_mae: 57.0814\n",
            "Epoch 48/100\n",
            "84/84 [==============================] - 7s 81ms/step - loss: 7.5639 - mae: 8.0615 - val_loss: 52.9108 - val_mae: 53.4108\n",
            "Epoch 49/100\n",
            "84/84 [==============================] - 7s 80ms/step - loss: 8.0937 - mae: 8.5918 - val_loss: 55.2842 - val_mae: 55.7842\n",
            "Epoch 50/100\n",
            "84/84 [==============================] - 7s 80ms/step - loss: 10.1046 - mae: 10.5998 - val_loss: 50.2831 - val_mae: 50.7831\n",
            "Epoch 51/100\n",
            "84/84 [==============================] - 7s 80ms/step - loss: 13.6794 - mae: 14.1773 - val_loss: 57.8835 - val_mae: 58.3835\n",
            "Epoch 52/100\n",
            "84/84 [==============================] - 7s 80ms/step - loss: 14.2641 - mae: 14.7629 - val_loss: 58.1459 - val_mae: 58.6459\n",
            "Epoch 53/100\n",
            "84/84 [==============================] - 7s 81ms/step - loss: 13.6999 - mae: 14.1982 - val_loss: 55.2030 - val_mae: 55.7029\n",
            "Epoch 54/100\n",
            "84/84 [==============================] - 8s 88ms/step - loss: 9.5251 - mae: 10.0159 - val_loss: 46.1613 - val_mae: 46.6613\n",
            "Epoch 55/100\n",
            "84/84 [==============================] - 7s 81ms/step - loss: 14.2913 - mae: 14.7901 - val_loss: 59.8794 - val_mae: 60.3794\n",
            "Epoch 56/100\n",
            "84/84 [==============================] - 7s 81ms/step - loss: 14.3780 - mae: 14.8607 - val_loss: 52.1369 - val_mae: 52.6369\n",
            "Epoch 57/100\n",
            "84/84 [==============================] - 7s 81ms/step - loss: 9.6738 - mae: 10.1578 - val_loss: 61.8197 - val_mae: 62.3197\n",
            "Epoch 58/100\n",
            "84/84 [==============================] - 7s 80ms/step - loss: 11.1672 - mae: 11.6596 - val_loss: 56.6262 - val_mae: 57.1262\n",
            "Epoch 59/100\n",
            "84/84 [==============================] - 7s 81ms/step - loss: 15.3103 - mae: 15.8020 - val_loss: 53.7547 - val_mae: 54.2547\n",
            "Epoch 60/100\n",
            "84/84 [==============================] - 7s 80ms/step - loss: 10.2515 - mae: 10.7315 - val_loss: 51.7858 - val_mae: 52.2858\n",
            "Epoch 61/100\n",
            "84/84 [==============================] - 7s 81ms/step - loss: 11.4117 - mae: 11.9004 - val_loss: 66.9433 - val_mae: 67.4433\n",
            "Epoch 62/100\n",
            "84/84 [==============================] - 7s 80ms/step - loss: 11.2452 - mae: 11.7331 - val_loss: 48.6000 - val_mae: 49.1000\n",
            "Epoch 63/100\n",
            "84/84 [==============================] - 7s 81ms/step - loss: 14.1982 - mae: 14.6968 - val_loss: 53.2953 - val_mae: 53.7953\n",
            "Epoch 64/100\n",
            "84/84 [==============================] - 7s 81ms/step - loss: 19.1720 - mae: 19.6661 - val_loss: 49.5787 - val_mae: 50.0787\n",
            "Epoch 65/100\n",
            "84/84 [==============================] - 7s 80ms/step - loss: 7.7906 - mae: 8.2879 - val_loss: 52.9972 - val_mae: 53.4972\n",
            "Epoch 66/100\n",
            "84/84 [==============================] - 7s 80ms/step - loss: 12.8835 - mae: 13.3802 - val_loss: 53.6523 - val_mae: 54.1523\n",
            "Epoch 67/100\n",
            "84/84 [==============================] - 7s 83ms/step - loss: 11.1384 - mae: 11.6352 - val_loss: 50.7122 - val_mae: 51.2122\n",
            "Epoch 68/100\n",
            "84/84 [==============================] - 7s 83ms/step - loss: 7.9622 - mae: 8.4600 - val_loss: 53.9950 - val_mae: 54.4950\n",
            "Epoch 69/100\n",
            "84/84 [==============================] - 7s 82ms/step - loss: 14.4116 - mae: 14.9107 - val_loss: 56.6433 - val_mae: 57.1433\n",
            "Epoch 70/100\n",
            "84/84 [==============================] - 8s 88ms/step - loss: 14.7070 - mae: 15.1978 - val_loss: 65.5363 - val_mae: 66.0363\n",
            "Epoch 71/100\n",
            "84/84 [==============================] - 7s 82ms/step - loss: 14.3297 - mae: 14.8230 - val_loss: 52.7071 - val_mae: 53.2071\n",
            "Epoch 72/100\n",
            "84/84 [==============================] - 7s 82ms/step - loss: 7.7667 - mae: 8.2643 - val_loss: 47.9875 - val_mae: 48.4875\n",
            "Epoch 73/100\n",
            "84/84 [==============================] - 7s 81ms/step - loss: 7.8178 - mae: 8.3152 - val_loss: 53.9545 - val_mae: 54.4545\n",
            "Epoch 74/100\n",
            "84/84 [==============================] - 7s 81ms/step - loss: 7.9783 - mae: 8.4668 - val_loss: 54.5824 - val_mae: 55.0824\n",
            "Epoch 75/100\n",
            "84/84 [==============================] - 7s 81ms/step - loss: 17.4611 - mae: 17.9555 - val_loss: 59.9041 - val_mae: 60.4042\n",
            "Epoch 76/100\n",
            "84/84 [==============================] - 7s 82ms/step - loss: 21.5006 - mae: 21.9978 - val_loss: 42.1590 - val_mae: 42.6554\n",
            "Epoch 77/100\n",
            "84/84 [==============================] - 7s 81ms/step - loss: 23.5867 - mae: 24.0862 - val_loss: 68.2288 - val_mae: 68.7288\n",
            "Epoch 78/100\n",
            "84/84 [==============================] - 7s 81ms/step - loss: 9.0398 - mae: 9.5243 - val_loss: 50.9365 - val_mae: 51.4365\n",
            "Epoch 79/100\n",
            "84/84 [==============================] - 7s 81ms/step - loss: 7.6293 - mae: 8.1249 - val_loss: 52.6184 - val_mae: 53.1184\n",
            "Epoch 80/100\n",
            "84/84 [==============================] - 7s 81ms/step - loss: 7.9366 - mae: 8.4285 - val_loss: 55.9352 - val_mae: 56.4352\n",
            "Epoch 81/100\n",
            "84/84 [==============================] - 7s 82ms/step - loss: 7.6581 - mae: 8.1549 - val_loss: 49.1658 - val_mae: 49.6657\n",
            "Epoch 82/100\n",
            "84/84 [==============================] - 7s 82ms/step - loss: 10.5699 - mae: 11.0655 - val_loss: 48.1281 - val_mae: 48.6281\n",
            "Epoch 83/100\n",
            "84/84 [==============================] - 7s 82ms/step - loss: 12.5133 - mae: 12.9979 - val_loss: 60.2058 - val_mae: 60.7058\n",
            "Epoch 84/100\n",
            "84/84 [==============================] - 7s 82ms/step - loss: 16.1438 - mae: 16.6345 - val_loss: 70.2152 - val_mae: 70.7152\n",
            "Epoch 85/100\n",
            "84/84 [==============================] - 7s 82ms/step - loss: 4.0663 - mae: 4.5610 - val_loss: 52.7293 - val_mae: 53.2293\n",
            "Epoch 86/100\n",
            "84/84 [==============================] - 8s 88ms/step - loss: 10.7281 - mae: 11.2229 - val_loss: 55.5156 - val_mae: 56.0156\n",
            "Epoch 87/100\n",
            "84/84 [==============================] - 7s 82ms/step - loss: 11.5471 - mae: 12.0352 - val_loss: 49.2878 - val_mae: 49.7878\n",
            "Epoch 88/100\n",
            "84/84 [==============================] - 7s 82ms/step - loss: 15.6565 - mae: 16.1493 - val_loss: 48.4560 - val_mae: 48.9560\n",
            "Epoch 89/100\n",
            "84/84 [==============================] - 7s 82ms/step - loss: 18.5214 - mae: 19.0152 - val_loss: 44.7676 - val_mae: 45.2676\n",
            "Epoch 90/100\n",
            "84/84 [==============================] - 7s 82ms/step - loss: 13.3116 - mae: 13.8075 - val_loss: 46.7353 - val_mae: 47.2353\n",
            "Epoch 91/100\n",
            "84/84 [==============================] - 7s 82ms/step - loss: 14.8102 - mae: 15.3027 - val_loss: 52.7102 - val_mae: 53.2101\n",
            "Epoch 92/100\n",
            "84/84 [==============================] - 7s 82ms/step - loss: 17.0102 - mae: 17.5014 - val_loss: 58.0043 - val_mae: 58.5043\n",
            "Epoch 93/100\n",
            "84/84 [==============================] - 7s 81ms/step - loss: 18.5075 - mae: 19.0016 - val_loss: 56.7682 - val_mae: 57.2682\n",
            "Epoch 94/100\n",
            "84/84 [==============================] - 7s 82ms/step - loss: 22.5408 - mae: 23.0328 - val_loss: 44.4218 - val_mae: 44.9218\n",
            "Epoch 95/100\n",
            "84/84 [==============================] - 7s 82ms/step - loss: 10.0429 - mae: 10.5341 - val_loss: 58.3176 - val_mae: 58.8176\n",
            "Epoch 96/100\n",
            "84/84 [==============================] - 7s 80ms/step - loss: 4.2780 - mae: 4.7654 - val_loss: 52.4063 - val_mae: 52.9063\n",
            "Epoch 97/100\n",
            "84/84 [==============================] - 7s 81ms/step - loss: 7.8966 - mae: 8.3931 - val_loss: 59.3150 - val_mae: 59.8150\n",
            "Epoch 98/100\n",
            "84/84 [==============================] - 7s 81ms/step - loss: 14.3659 - mae: 14.8651 - val_loss: 60.4686 - val_mae: 60.9686\n",
            "Epoch 99/100\n",
            "84/84 [==============================] - 7s 81ms/step - loss: 8.7559 - mae: 9.2525 - val_loss: 59.6728 - val_mae: 60.1728\n",
            "Epoch 100/100\n",
            "84/84 [==============================] - 7s 81ms/step - loss: 7.6308 - mae: 8.1277 - val_loss: 54.3203 - val_mae: 54.8203\n"
          ]
        }
      ]
    },
    {
      "cell_type": "code",
      "source": [
        "# plot of mae\n",
        "import matplotlib.pyplot as plt\n",
        "plt.plot(history.history['mae'])\n",
        "plt.plot(history.history['val_mae'])\n",
        "plt.title('MAE')\n",
        "plt.ylabel('mae')\n",
        "plt.xlabel('epoch')\n",
        "plt.legend(['train', 'test'], loc='upper left')\n",
        "plt.show()"
      ],
      "metadata": {
        "colab": {
          "base_uri": "https://localhost:8080/",
          "height": 295
        },
        "id": "zz2f2yXU6rjz",
        "outputId": "61e8bcfe-1055-44a2-c786-37ab8404a0ad"
      },
      "execution_count": 53,
      "outputs": [
        {
          "output_type": "display_data",
          "data": {
            "text/plain": [
              "<Figure size 432x288 with 1 Axes>"
            ],
            "image/png": "[encoded data removed]"
          },
          "metadata": {
            "needs_background": "light"
          }
        }
      ]
    },
    {
      "cell_type": "code",
      "source": [
        "# plot of loss\n",
        "plt.plot(history.history['loss'])\n",
        "plt.plot(history.history['val_loss'])\n",
        "plt.title('Model Loss')\n",
        "plt.ylabel('loss')\n",
        "plt.xlabel('epoch')\n",
        "plt.legend(['train', 'test'], loc='upper left')\n",
        "plt.show()"
      ],
      "metadata": {
        "colab": {
          "base_uri": "https://localhost:8080/",
          "height": 295
        },
        "id": "RM0uPMoi62FO",
        "outputId": "9f08318d-c49b-4d5c-9b8b-3cdec0f4f2c4"
      },
      "execution_count": 54,
      "outputs": [
        {
          "output_type": "display_data",
          "data": {
            "text/plain": [
              "<Figure size 432x288 with 1 Axes>"
            ],
            "image/png": "[encoded data removed]"
          },
          "metadata": {
            "needs_background": "light"
          }
        }
      ]
    }
  ]
}